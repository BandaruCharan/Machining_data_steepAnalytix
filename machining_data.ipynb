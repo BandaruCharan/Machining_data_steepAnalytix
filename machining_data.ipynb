version https://git-lfs.github.com/spec/v1
oid sha256:2624afd07959643a51c9c93d1988628442320bdf15fc3908542832d11ceb34b9
size 230145304
